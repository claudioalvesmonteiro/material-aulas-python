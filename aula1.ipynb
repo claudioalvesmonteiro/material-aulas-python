{
 "cells": [
  {
   "cell_type": "markdown",
   "source": [
    "# Introdução a Python para Análise de Dados"
   ],
   "metadata": {}
  },
  {
   "cell_type": "markdown",
   "source": [
    "## 1. Operações Básicas "
   ],
   "metadata": {}
  },
  {
   "cell_type": "code",
   "execution_count": null,
   "source": [
    "# soma\r\n",
    "1 + 1"
   ],
   "outputs": [],
   "metadata": {}
  },
  {
   "cell_type": "code",
   "execution_count": null,
   "source": [
    "# subtracao\r\n",
    "1 - 1"
   ],
   "outputs": [],
   "metadata": {}
  },
  {
   "cell_type": "code",
   "execution_count": null,
   "source": [
    "# Divisao\r\n",
    "22 / 2"
   ],
   "outputs": [],
   "metadata": {}
  },
  {
   "cell_type": "code",
   "execution_count": null,
   "source": [
    "# multiplicacao\r\n",
    "3 * 5"
   ],
   "outputs": [],
   "metadata": {}
  },
  {
   "cell_type": "code",
   "execution_count": null,
   "source": [
    "# Potencia\r\n",
    "2 ** 3"
   ],
   "outputs": [],
   "metadata": {}
  },
  {
   "cell_type": "code",
   "execution_count": null,
   "source": [
    "# expressao\r\n",
    "(2 + 3) * 5"
   ],
   "outputs": [],
   "metadata": {}
  },
  {
   "cell_type": "code",
   "execution_count": null,
   "source": [
    "# expressao\r\n",
    "(5 - 1) * ((7 + 1) / (3 - 1))"
   ],
   "outputs": [],
   "metadata": {}
  },
  {
   "cell_type": "markdown",
   "source": [
    "## 2. Tipos de Dados"
   ],
   "metadata": {}
  },
  {
   "cell_type": "code",
   "execution_count": null,
   "source": [
    "# Interger\r\n",
    "type(1)"
   ],
   "outputs": [],
   "metadata": {}
  },
  {
   "cell_type": "code",
   "execution_count": null,
   "source": [
    "# Float point\r\n",
    "type(4.224)"
   ],
   "outputs": [],
   "metadata": {}
  },
  {
   "cell_type": "code",
   "execution_count": null,
   "source": [
    "# String\r\n",
    "type('Bom dia!')"
   ],
   "outputs": [],
   "metadata": {}
  },
  {
   "cell_type": "markdown",
   "source": [
    "## 3. Trabalhando com Variáveis\r\n",
    "Variáveis são objetos que armazenam informações e precisam seguir o padrão:\r\n",
    "* Sem infén (var-1)\r\n",
    "* Sem espaço (var 1)\r\n",
    "* Não deve começar com numero (1var)\r\n",
    "* Carcteres espciais não são permitidos (var$1, 'var1')\r\n"
   ],
   "metadata": {}
  },
  {
   "cell_type": "code",
   "execution_count": null,
   "source": [
    "var1 = 5\r\n",
    "print(var1)"
   ],
   "outputs": [],
   "metadata": {}
  },
  {
   "cell_type": "markdown",
   "source": [
    "## 4. Operações Condicionais"
   ],
   "metadata": {}
  },
  {
   "cell_type": "code",
   "execution_count": null,
   "source": [
    "# igual\r\n",
    "print(42 == 42)\r\n",
    "print(32 == 9)"
   ],
   "outputs": [],
   "metadata": {}
  },
  {
   "cell_type": "code",
   "execution_count": null,
   "source": [
    "# diferente\r\n",
    "print(10 != 12)\r\n",
    "print('maria' != 'maria')"
   ],
   "outputs": [],
   "metadata": {}
  },
  {
   "cell_type": "code",
   "execution_count": null,
   "source": [
    "# maior que\r\n",
    "print(3 > 0)\r\n",
    "print('test' > 'teste')"
   ],
   "outputs": [],
   "metadata": {}
  },
  {
   "cell_type": "code",
   "execution_count": null,
   "source": [
    "# menor que\r\n",
    "print(10 < 5)\r\n",
    "print(5 < 10)"
   ],
   "outputs": [],
   "metadata": {}
  },
  {
   "cell_type": "code",
   "execution_count": null,
   "source": [
    "# and\r\n",
    "print(True and True)\r\n",
    "print(False and False)\r\n",
    "print(True & True)\r\n"
   ],
   "outputs": [],
   "metadata": {}
  },
  {
   "cell_type": "code",
   "execution_count": null,
   "source": [
    "# or\r\n",
    "print(False or False)\r\n",
    "print(True or False)\r\n",
    "print(True | False)"
   ],
   "outputs": [],
   "metadata": {}
  },
  {
   "cell_type": "code",
   "execution_count": null,
   "source": [
    "# not\r\n",
    "print(not True)\r\n",
    "print(not False)"
   ],
   "outputs": [],
   "metadata": {}
  },
  {
   "cell_type": "markdown",
   "source": [
    "## 5. Controle de Fluxo (flow control statements)"
   ],
   "metadata": {}
  },
  {
   "cell_type": "code",
   "execution_count": null,
   "source": [
    "# if\r\n",
    "if 1 > 0:\r\n",
    "    print('1 maior que 0')"
   ],
   "outputs": [],
   "metadata": {}
  },
  {
   "cell_type": "code",
   "execution_count": null,
   "source": [
    "if 50 > 60:\r\n",
    "    print('50 maior que 60')"
   ],
   "outputs": [],
   "metadata": {}
  },
  {
   "cell_type": "code",
   "execution_count": null,
   "source": [
    "# else\r\n",
    "if 2 == 5:\r\n",
    "    print('2 igual a 5')\r\n",
    "else:\r\n",
    "    print('2 não é igual a 5')"
   ],
   "outputs": [],
   "metadata": {}
  },
  {
   "cell_type": "code",
   "execution_count": null,
   "source": [
    "# elif\r\n",
    "if 2 > 2:\r\n",
    "    print('2 maior que 2')\r\n",
    "elif 2 < 2:\r\n",
    "    print('2 menor que 2')\r\n",
    "else:\r\n",
    "    print('2 igual a 2')"
   ],
   "outputs": [],
   "metadata": {}
  },
  {
   "cell_type": "code",
   "execution_count": null,
   "source": [
    "# while\r\n",
    "exemplo = 0\r\n",
    "while exemplo < 5:\r\n",
    "    print('Valor de exemplo: ', exemplo)\r\n",
    "    exemplo = exemplo + 1"
   ],
   "outputs": [],
   "metadata": {}
  },
  {
   "cell_type": "code",
   "execution_count": null,
   "source": [
    "# for e range()\r\n",
    "for i in range(5):\r\n",
    "    print(i) \r\n",
    "\r\n",
    "for qlq_nome in range(3):\r\n",
    "    print(qlq_nome)"
   ],
   "outputs": [],
   "metadata": {}
  },
  {
   "cell_type": "markdown",
   "source": [
    "## 6. Funções"
   ],
   "metadata": {}
  },
  {
   "cell_type": "code",
   "execution_count": null,
   "source": [
    "# definindo funcao\r\n",
    "def funcao1(numero):\r\n",
    "    numero_novo = numero + 1\r\n",
    "    return numero_novo"
   ],
   "outputs": [],
   "metadata": {}
  },
  {
   "cell_type": "code",
   "execution_count": null,
   "source": [
    "# executando funcao\r\n",
    "funcao1(5)"
   ],
   "outputs": [],
   "metadata": {}
  },
  {
   "cell_type": "code",
   "execution_count": null,
   "source": [
    "# documentacao da funcao\r\n",
    "def funcao1(numero):\r\n",
    "    ''' funcao que recebe um numero\r\n",
    "        e retorna o numero mais um\r\n",
    "    '''\r\n",
    "    numero_novo = numero + 1\r\n",
    "    return numero_novo"
   ],
   "outputs": [],
   "metadata": {}
  },
  {
   "cell_type": "code",
   "execution_count": null,
   "source": [
    "def funcao2(num_a, num_b):\r\n",
    "    ''' recebe dois numeros, \r\n",
    "        eleva o primeiro a potencia do segundo\r\n",
    "        retorna se o numero resultante e menor que 1000\r\n",
    "    '''\r\n",
    "    num_c = num_a**num_b\r\n",
    "    if num_c < 1000:\r\n",
    "        return True\r\n",
    "    else:\r\n",
    "        return False"
   ],
   "outputs": [],
   "metadata": {}
  },
  {
   "cell_type": "markdown",
   "source": [
    "## 7. Exercicios \r\n",
    "\r\n",
    "## Atenção! Não vale procurar a solução na internet. A ideia aqui é exercitar o pensamento algoritimíco, em que você traça uma solução baseada no que foi visto até o momento. \r\n",
    "\r\n",
    "7.1 Crie e execute uma função que recebe um número qualquer e retorna a soma de todos os números de 1 até o número recebido. Ex: recebe 5 e retorna 1+2+3+4+5.\r\n",
    "\r\n",
    "7.2 Faça uma função que recebe dois números, base e expoente, calcula e mostra o primeiro número elevado ao segundo número. Não utilize a função de potência da linguagem.\r\n",
    "\r\n",
    "7.3 Crie e execute uma função que mostra a sequência de Fibonacci até 20 termos. O número seguinte é encontrado a partir da soma dos dois números anteriores. Primeiros 10 termos da sequência de Fibonacci: 0  1  1  2  3  5  8  13  21  34. \r\n",
    "\r\n",
    "7.4 Supondo que a população de um país A seja da ordem de 80000 habitantes com uma taxa anual de crescimento de 3% e que a população de B seja 200000 habitantes com uma taxa de crescimento de 1.5%. Faça uma função que calcula e retorna o número de anos necessários para que a população do país A ultrapasse ou iguale a população do país B, mantidas as taxas de crescimento."
   ],
   "metadata": {}
  },
  {
   "cell_type": "markdown",
   "source": [
    "## 8. Material Extra\r\n",
    "\r\n",
    "* https://www.datacamp.com/\r\n",
    "* https://docs.python.org/3/tutorial/index.html\r\n",
    "* https://panda.ime.usp.br/cc110/static/cc110/index.html"
   ],
   "metadata": {}
  },
  {
   "cell_type": "markdown",
   "source": [],
   "metadata": {}
  }
 ],
 "metadata": {
  "kernelspec": {
   "name": "python3",
   "display_name": "Python 3.9.7 64-bit (windows store)"
  },
  "language_info": {
   "codemirror_mode": {
    "name": "ipython",
    "version": 3
   },
   "file_extension": ".py",
   "mimetype": "text/x-python",
   "name": "python",
   "nbconvert_exporter": "python",
   "pygments_lexer": "ipython3",
   "version": "3.9.7"
  },
  "interpreter": {
   "hash": "71e986ee22815c980f42d5d0306cb35536cc658b566120a91f515f6dd984206f"
  }
 },
 "nbformat": 4,
 "nbformat_minor": 2
}